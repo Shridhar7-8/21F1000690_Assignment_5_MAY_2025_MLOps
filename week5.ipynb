{
 "cells": [
  {
   "cell_type": "code",
   "execution_count": 1,
   "id": "67b84fc9-40c2-4260-95af-5069c407b24d",
   "metadata": {
    "tags": []
   },
   "outputs": [
    {
     "name": "stdout",
     "output_type": "stream",
     "text": [
      "Requirement already satisfied: feast in /opt/conda/lib/python3.10/site-packages (0.53.0)\n",
      "Requirement already satisfied: scikit-learn in /opt/conda/lib/python3.10/site-packages (1.7.2)\n",
      "Requirement already satisfied: mlflow in /opt/conda/lib/python3.10/site-packages (3.5.1)\n",
      "Requirement already satisfied: click<9.0.0,>=7.0.0 in /opt/conda/lib/python3.10/site-packages (from feast) (8.1.8)\n",
      "Requirement already satisfied: colorama<1,>=0.3.9 in /opt/conda/lib/python3.10/site-packages (from feast) (0.4.6)\n",
      "Requirement already satisfied: dill~=0.3.0 in /opt/conda/lib/python3.10/site-packages (from feast) (0.3.9)\n",
      "Requirement already satisfied: protobuf>=4.24.0 in /opt/conda/lib/python3.10/site-packages (from feast) (6.31.1)\n",
      "Requirement already satisfied: Jinja2<4,>=2 in /opt/conda/lib/python3.10/site-packages (from feast) (3.1.6)\n",
      "Requirement already satisfied: jsonschema in /opt/conda/lib/python3.10/site-packages (from feast) (4.25.1)\n",
      "Requirement already satisfied: mmh3 in /opt/conda/lib/python3.10/site-packages (from feast) (5.2.0)\n",
      "Requirement already satisfied: numpy<3,>=2.0.0 in /opt/conda/lib/python3.10/site-packages (from feast) (2.0.0)\n",
      "Requirement already satisfied: pandas<3,>=1.4.3 in /opt/conda/lib/python3.10/site-packages (from feast) (2.3.2)\n",
      "Requirement already satisfied: pyarrow<=17.0.0 in /opt/conda/lib/python3.10/site-packages (from feast) (16.0.0)\n",
      "Requirement already satisfied: pydantic==2.10.6 in /opt/conda/lib/python3.10/site-packages (from feast) (2.10.6)\n",
      "Requirement already satisfied: pygments<3,>=2.12.0 in /opt/conda/lib/python3.10/site-packages (from feast) (2.19.2)\n",
      "Requirement already satisfied: PyYAML<7,>=5.4.0 in /opt/conda/lib/python3.10/site-packages (from feast) (6.0.2)\n",
      "Requirement already satisfied: requests in /opt/conda/lib/python3.10/site-packages (from feast) (2.32.5)\n",
      "Requirement already satisfied: SQLAlchemy>1 in /opt/conda/lib/python3.10/site-packages (from SQLAlchemy[mypy]>1->feast) (2.0.43)\n",
      "Requirement already satisfied: tabulate<1,>=0.8.0 in /opt/conda/lib/python3.10/site-packages (from feast) (0.9.0)\n",
      "Requirement already satisfied: tenacity<9,>=7 in /opt/conda/lib/python3.10/site-packages (from feast) (8.5.0)\n",
      "Requirement already satisfied: toml<1,>=0.10.0 in /opt/conda/lib/python3.10/site-packages (from feast) (0.10.2)\n",
      "Requirement already satisfied: tqdm<5,>=4 in /opt/conda/lib/python3.10/site-packages (from feast) (4.67.1)\n",
      "Requirement already satisfied: typeguard>=4.0.0 in /opt/conda/lib/python3.10/site-packages (from feast) (4.4.4)\n",
      "Requirement already satisfied: fastapi>=0.68.0 in /opt/conda/lib/python3.10/site-packages (from feast) (0.116.2)\n",
      "Requirement already satisfied: uvicorn==0.34.0 in /opt/conda/lib/python3.10/site-packages (from uvicorn[standard]==0.34.0->feast) (0.34.0)\n",
      "Requirement already satisfied: uvicorn-worker in /opt/conda/lib/python3.10/site-packages (from feast) (0.3.0)\n",
      "Requirement already satisfied: gunicorn in /opt/conda/lib/python3.10/site-packages (from feast) (23.0.0)\n",
      "Requirement already satisfied: dask>=2024.2.1 in /opt/conda/lib/python3.10/site-packages (from dask[dataframe]>=2024.2.1->feast) (2024.8.1)\n",
      "Requirement already satisfied: prometheus_client in /opt/conda/lib/python3.10/site-packages (from feast) (0.22.1)\n",
      "Requirement already satisfied: psutil in /opt/conda/lib/python3.10/site-packages (from feast) (5.9.3)\n",
      "Requirement already satisfied: bigtree>=0.19.2 in /opt/conda/lib/python3.10/site-packages (from feast) (1.0.0)\n",
      "Requirement already satisfied: pyjwt in /opt/conda/lib/python3.10/site-packages (from feast) (2.10.1)\n",
      "Requirement already satisfied: annotated-types>=0.6.0 in /opt/conda/lib/python3.10/site-packages (from pydantic==2.10.6->feast) (0.7.0)\n",
      "Requirement already satisfied: pydantic-core==2.27.2 in /opt/conda/lib/python3.10/site-packages (from pydantic==2.10.6->feast) (2.27.2)\n",
      "Requirement already satisfied: typing-extensions>=4.12.2 in /opt/conda/lib/python3.10/site-packages (from pydantic==2.10.6->feast) (4.15.0)\n",
      "Requirement already satisfied: h11>=0.8 in /opt/conda/lib/python3.10/site-packages (from uvicorn==0.34.0->uvicorn[standard]==0.34.0->feast) (0.16.0)\n",
      "Requirement already satisfied: httptools>=0.6.3 in /opt/conda/lib/python3.10/site-packages (from uvicorn[standard]==0.34.0->feast) (0.6.4)\n",
      "Requirement already satisfied: python-dotenv>=0.13 in /opt/conda/lib/python3.10/site-packages (from uvicorn[standard]==0.34.0->feast) (1.1.1)\n",
      "Requirement already satisfied: uvloop!=0.15.0,!=0.15.1,>=0.14.0 in /opt/conda/lib/python3.10/site-packages (from uvicorn[standard]==0.34.0->feast) (0.21.0)\n",
      "Requirement already satisfied: watchfiles>=0.13 in /opt/conda/lib/python3.10/site-packages (from uvicorn[standard]==0.34.0->feast) (1.1.0)\n",
      "Requirement already satisfied: websockets>=10.4 in /opt/conda/lib/python3.10/site-packages (from uvicorn[standard]==0.34.0->feast) (15.0.1)\n",
      "Requirement already satisfied: MarkupSafe>=2.0 in /opt/conda/lib/python3.10/site-packages (from Jinja2<4,>=2->feast) (3.0.2)\n",
      "Requirement already satisfied: python-dateutil>=2.8.2 in /opt/conda/lib/python3.10/site-packages (from pandas<3,>=1.4.3->feast) (2.9.0.post0)\n",
      "Requirement already satisfied: pytz>=2020.1 in /opt/conda/lib/python3.10/site-packages (from pandas<3,>=1.4.3->feast) (2025.2)\n",
      "Requirement already satisfied: tzdata>=2022.7 in /opt/conda/lib/python3.10/site-packages (from pandas<3,>=1.4.3->feast) (2025.2)\n",
      "Requirement already satisfied: scipy>=1.8.0 in /opt/conda/lib/python3.10/site-packages (from scikit-learn) (1.15.3)\n",
      "Requirement already satisfied: joblib>=1.2.0 in /opt/conda/lib/python3.10/site-packages (from scikit-learn) (1.5.2)\n",
      "Requirement already satisfied: threadpoolctl>=3.1.0 in /opt/conda/lib/python3.10/site-packages (from scikit-learn) (3.6.0)\n",
      "Requirement already satisfied: google-api-core<3,>=1.23.0 in /opt/conda/lib/python3.10/site-packages (from feast[gcp]) (2.25.1)\n",
      "Requirement already satisfied: googleapis-common-protos<2,>=1.52.0 in /opt/conda/lib/python3.10/site-packages (from feast[gcp]) (1.70.0)\n",
      "Requirement already satisfied: google-cloud-bigquery<4,>=2 in /opt/conda/lib/python3.10/site-packages (from google-cloud-bigquery[pandas]<4,>=2; extra == \"gcp\"->feast[gcp]) (3.37.0)\n",
      "Requirement already satisfied: google-cloud-bigquery-storage<3,>=2.0.0 in /opt/conda/lib/python3.10/site-packages (from feast[gcp]) (2.33.1)\n",
      "Requirement already satisfied: google-cloud-datastore<3,>=2.16.0 in /opt/conda/lib/python3.10/site-packages (from feast[gcp]) (2.21.0)\n",
      "Requirement already satisfied: google-cloud-storage<3,>=1.34.0 in /opt/conda/lib/python3.10/site-packages (from feast[gcp]) (2.19.0)\n",
      "Requirement already satisfied: google-cloud-bigtable<3,>=2.11.0 in /opt/conda/lib/python3.10/site-packages (from feast[gcp]) (2.33.0)\n",
      "Requirement already satisfied: fsspec<=2024.9.0 in /opt/conda/lib/python3.10/site-packages (from feast[gcp]) (2024.9.0)\n",
      "Requirement already satisfied: proto-plus<2.0.0,>=1.22.3 in /opt/conda/lib/python3.10/site-packages (from google-api-core<3,>=1.23.0->feast[gcp]) (1.26.1)\n",
      "Requirement already satisfied: google-auth<3.0.0,>=2.14.1 in /opt/conda/lib/python3.10/site-packages (from google-api-core<3,>=1.23.0->feast[gcp]) (2.40.3)\n",
      "Requirement already satisfied: cachetools<6.0,>=2.0.0 in /opt/conda/lib/python3.10/site-packages (from google-auth<3.0.0,>=2.14.1->google-api-core<3,>=1.23.0->feast[gcp]) (5.5.2)\n",
      "Requirement already satisfied: pyasn1-modules>=0.2.1 in /opt/conda/lib/python3.10/site-packages (from google-auth<3.0.0,>=2.14.1->google-api-core<3,>=1.23.0->feast[gcp]) (0.4.2)\n",
      "Requirement already satisfied: rsa<5,>=3.1.4 in /opt/conda/lib/python3.10/site-packages (from google-auth<3.0.0,>=2.14.1->google-api-core<3,>=1.23.0->feast[gcp]) (4.9.1)\n",
      "Requirement already satisfied: google-cloud-core<3.0.0,>=2.4.1 in /opt/conda/lib/python3.10/site-packages (from google-cloud-bigquery<4,>=2->google-cloud-bigquery[pandas]<4,>=2; extra == \"gcp\"->feast[gcp]) (2.4.3)\n",
      "Requirement already satisfied: google-resumable-media<3.0.0,>=2.0.0 in /opt/conda/lib/python3.10/site-packages (from google-cloud-bigquery<4,>=2->google-cloud-bigquery[pandas]<4,>=2; extra == \"gcp\"->feast[gcp]) (2.7.2)\n",
      "Requirement already satisfied: packaging>=24.2.0 in /opt/conda/lib/python3.10/site-packages (from google-cloud-bigquery<4,>=2->google-cloud-bigquery[pandas]<4,>=2; extra == \"gcp\"->feast[gcp]) (25.0)\n",
      "Requirement already satisfied: grpcio<2.0.0,>=1.33.2 in /opt/conda/lib/python3.10/site-packages (from google-api-core[grpc]<3.0.0,>=2.11.1->google-cloud-bigquery<4,>=2->google-cloud-bigquery[pandas]<4,>=2; extra == \"gcp\"->feast[gcp]) (1.75.0)\n",
      "Requirement already satisfied: grpcio-status<2.0.0,>=1.33.2 in /opt/conda/lib/python3.10/site-packages (from google-api-core[grpc]<3.0.0,>=2.11.1->google-cloud-bigquery<4,>=2->google-cloud-bigquery[pandas]<4,>=2; extra == \"gcp\"->feast[gcp]) (1.62.3)\n",
      "Requirement already satisfied: pandas-gbq>=0.26.1 in /opt/conda/lib/python3.10/site-packages (from google-cloud-bigquery[pandas]<4,>=2; extra == \"gcp\"->feast[gcp]) (0.29.2)\n",
      "Requirement already satisfied: db-dtypes<2.0.0,>=1.0.4 in /opt/conda/lib/python3.10/site-packages (from google-cloud-bigquery[pandas]<4,>=2; extra == \"gcp\"->feast[gcp]) (1.4.3)\n",
      "Requirement already satisfied: grpc-google-iam-v1<1.0.0,>=0.12.4 in /opt/conda/lib/python3.10/site-packages (from google-cloud-bigtable<3,>=2.11.0->feast[gcp]) (0.14.2)\n",
      "Requirement already satisfied: google-crc32c<2.0.0dev,>=1.5.0 in /opt/conda/lib/python3.10/site-packages (from google-cloud-bigtable<3,>=2.11.0->feast[gcp]) (1.7.1)\n",
      "Requirement already satisfied: six>=1.5 in /opt/conda/lib/python3.10/site-packages (from python-dateutil>=2.8.2->pandas<3,>=1.4.3->feast) (1.17.0)\n",
      "Requirement already satisfied: charset_normalizer<4,>=2 in /opt/conda/lib/python3.10/site-packages (from requests->feast) (3.4.2)\n",
      "Requirement already satisfied: idna<4,>=2.5 in /opt/conda/lib/python3.10/site-packages (from requests->feast) (3.10)\n",
      "Requirement already satisfied: urllib3<3,>=1.21.1 in /opt/conda/lib/python3.10/site-packages (from requests->feast) (2.5.0)\n",
      "Requirement already satisfied: certifi>=2017.4.17 in /opt/conda/lib/python3.10/site-packages (from requests->feast) (2025.8.3)\n",
      "Requirement already satisfied: pyasn1>=0.1.3 in /opt/conda/lib/python3.10/site-packages (from rsa<5,>=3.1.4->google-auth<3.0.0,>=2.14.1->google-api-core<3,>=1.23.0->feast[gcp]) (0.6.1)\n",
      "Requirement already satisfied: mlflow-skinny==3.5.1 in /opt/conda/lib/python3.10/site-packages (from mlflow) (3.5.1)\n",
      "Requirement already satisfied: mlflow-tracing==3.5.1 in /opt/conda/lib/python3.10/site-packages (from mlflow) (3.5.1)\n",
      "Requirement already satisfied: Flask-CORS<7 in /opt/conda/lib/python3.10/site-packages (from mlflow) (6.0.1)\n",
      "Requirement already satisfied: Flask<4 in /opt/conda/lib/python3.10/site-packages (from mlflow) (3.1.2)\n",
      "Requirement already satisfied: alembic!=1.10.0,<2 in /opt/conda/lib/python3.10/site-packages (from mlflow) (1.17.1)\n",
      "Requirement already satisfied: cryptography<47,>=43.0.0 in /opt/conda/lib/python3.10/site-packages (from mlflow) (45.0.7)\n",
      "Requirement already satisfied: docker<8,>=4.0.0 in /opt/conda/lib/python3.10/site-packages (from mlflow) (7.1.0)\n",
      "Requirement already satisfied: graphene<4 in /opt/conda/lib/python3.10/site-packages (from mlflow) (3.4.3)\n",
      "Requirement already satisfied: matplotlib<4 in /opt/conda/lib/python3.10/site-packages (from mlflow) (3.10.0)\n",
      "Requirement already satisfied: cloudpickle<4 in /opt/conda/lib/python3.10/site-packages (from mlflow-skinny==3.5.1->mlflow) (3.1.1)\n",
      "Requirement already satisfied: databricks-sdk<1,>=0.20.0 in /opt/conda/lib/python3.10/site-packages (from mlflow-skinny==3.5.1->mlflow) (0.71.0)\n",
      "Requirement already satisfied: gitpython<4,>=3.1.9 in /opt/conda/lib/python3.10/site-packages (from mlflow-skinny==3.5.1->mlflow) (3.1.45)\n",
      "Requirement already satisfied: importlib_metadata!=4.7.0,<9,>=3.7.0 in /opt/conda/lib/python3.10/site-packages (from mlflow-skinny==3.5.1->mlflow) (8.7.0)\n",
      "Requirement already satisfied: opentelemetry-api<3,>=1.9.0 in /opt/conda/lib/python3.10/site-packages (from mlflow-skinny==3.5.1->mlflow) (1.37.0)\n",
      "Requirement already satisfied: opentelemetry-proto<3,>=1.9.0 in /opt/conda/lib/python3.10/site-packages (from mlflow-skinny==3.5.1->mlflow) (1.37.0)\n",
      "Requirement already satisfied: opentelemetry-sdk<3,>=1.9.0 in /opt/conda/lib/python3.10/site-packages (from mlflow-skinny==3.5.1->mlflow) (1.37.0)\n",
      "Requirement already satisfied: sqlparse<1,>=0.4.0 in /opt/conda/lib/python3.10/site-packages (from mlflow-skinny==3.5.1->mlflow) (0.5.3)\n",
      "Requirement already satisfied: Mako in /opt/conda/lib/python3.10/site-packages (from alembic!=1.10.0,<2->mlflow) (1.3.10)\n",
      "Requirement already satisfied: tomli in /opt/conda/lib/python3.10/site-packages (from alembic!=1.10.0,<2->mlflow) (2.2.1)\n",
      "Requirement already satisfied: cffi>=1.14 in /opt/conda/lib/python3.10/site-packages (from cryptography<47,>=43.0.0->mlflow) (1.17.1)\n",
      "Requirement already satisfied: starlette<0.49.0,>=0.40.0 in /opt/conda/lib/python3.10/site-packages (from fastapi>=0.68.0->feast) (0.48.0)\n",
      "Requirement already satisfied: blinker>=1.9.0 in /opt/conda/lib/python3.10/site-packages (from Flask<4->mlflow) (1.9.0)\n",
      "Requirement already satisfied: itsdangerous>=2.2.0 in /opt/conda/lib/python3.10/site-packages (from Flask<4->mlflow) (2.2.0)\n",
      "Requirement already satisfied: werkzeug>=3.1.0 in /opt/conda/lib/python3.10/site-packages (from Flask<4->mlflow) (3.1.3)\n",
      "Requirement already satisfied: gitdb<5,>=4.0.1 in /opt/conda/lib/python3.10/site-packages (from gitpython<4,>=3.1.9->mlflow-skinny==3.5.1->mlflow) (4.0.12)\n",
      "Requirement already satisfied: smmap<6,>=3.0.1 in /opt/conda/lib/python3.10/site-packages (from gitdb<5,>=4.0.1->gitpython<4,>=3.1.9->mlflow-skinny==3.5.1->mlflow) (5.0.2)\n",
      "Requirement already satisfied: graphql-core<3.3,>=3.1 in /opt/conda/lib/python3.10/site-packages (from graphene<4->mlflow) (3.2.6)\n",
      "Requirement already satisfied: graphql-relay<3.3,>=3.1 in /opt/conda/lib/python3.10/site-packages (from graphene<4->mlflow) (3.2.0)\n",
      "Requirement already satisfied: zipp>=3.20 in /opt/conda/lib/python3.10/site-packages (from importlib_metadata!=4.7.0,<9,>=3.7.0->mlflow-skinny==3.5.1->mlflow) (3.23.0)\n",
      "Requirement already satisfied: contourpy>=1.0.1 in /opt/conda/lib/python3.10/site-packages (from matplotlib<4->mlflow) (1.3.2)\n",
      "Requirement already satisfied: cycler>=0.10 in /opt/conda/lib/python3.10/site-packages (from matplotlib<4->mlflow) (0.12.1)\n",
      "Requirement already satisfied: fonttools>=4.22.0 in /opt/conda/lib/python3.10/site-packages (from matplotlib<4->mlflow) (4.59.2)\n",
      "Requirement already satisfied: kiwisolver>=1.3.1 in /opt/conda/lib/python3.10/site-packages (from matplotlib<4->mlflow) (1.4.9)\n",
      "Requirement already satisfied: pillow>=8 in /opt/conda/lib/python3.10/site-packages (from matplotlib<4->mlflow) (11.3.0)\n",
      "Requirement already satisfied: pyparsing>=2.3.1 in /opt/conda/lib/python3.10/site-packages (from matplotlib<4->mlflow) (3.2.4)\n",
      "Requirement already satisfied: opentelemetry-semantic-conventions==0.58b0 in /opt/conda/lib/python3.10/site-packages (from opentelemetry-sdk<3,>=1.9.0->mlflow-skinny==3.5.1->mlflow) (0.58b0)\n",
      "Requirement already satisfied: greenlet>=1 in /opt/conda/lib/python3.10/site-packages (from SQLAlchemy>1->SQLAlchemy[mypy]>1->feast) (3.2.4)\n",
      "Requirement already satisfied: anyio<5,>=3.6.2 in /opt/conda/lib/python3.10/site-packages (from starlette<0.49.0,>=0.40.0->fastapi>=0.68.0->feast) (4.10.0)\n",
      "Requirement already satisfied: exceptiongroup>=1.0.2 in /opt/conda/lib/python3.10/site-packages (from anyio<5,>=3.6.2->starlette<0.49.0,>=0.40.0->fastapi>=0.68.0->feast) (1.3.0)\n",
      "Requirement already satisfied: sniffio>=1.1 in /opt/conda/lib/python3.10/site-packages (from anyio<5,>=3.6.2->starlette<0.49.0,>=0.40.0->fastapi>=0.68.0->feast) (1.3.1)\n",
      "Requirement already satisfied: pycparser in /opt/conda/lib/python3.10/site-packages (from cffi>=1.14->cryptography<47,>=43.0.0->mlflow) (2.22)\n",
      "Requirement already satisfied: partd>=1.4.0 in /opt/conda/lib/python3.10/site-packages (from dask>=2024.2.1->dask[dataframe]>=2024.2.1->feast) (1.4.2)\n",
      "Requirement already satisfied: toolz>=0.10.0 in /opt/conda/lib/python3.10/site-packages (from dask>=2024.2.1->dask[dataframe]>=2024.2.1->feast) (1.0.0)\n",
      "Requirement already satisfied: dask-expr<1.2,>=1.1 in /opt/conda/lib/python3.10/site-packages (from dask[dataframe]>=2024.2.1->feast) (1.1.11)\n",
      "Requirement already satisfied: setuptools in /opt/conda/lib/python3.10/site-packages (from pandas-gbq>=0.26.1->google-cloud-bigquery[pandas]<4,>=2; extra == \"gcp\"->feast[gcp]) (80.9.0)\n",
      "Requirement already satisfied: pydata-google-auth>=1.5.0 in /opt/conda/lib/python3.10/site-packages (from pandas-gbq>=0.26.1->google-cloud-bigquery[pandas]<4,>=2; extra == \"gcp\"->feast[gcp]) (1.9.1)\n",
      "Requirement already satisfied: google-auth-oauthlib>=0.7.0 in /opt/conda/lib/python3.10/site-packages (from pandas-gbq>=0.26.1->google-cloud-bigquery[pandas]<4,>=2; extra == \"gcp\"->feast[gcp]) (1.2.2)\n",
      "Requirement already satisfied: requests-oauthlib>=0.7.0 in /opt/conda/lib/python3.10/site-packages (from google-auth-oauthlib>=0.7.0->pandas-gbq>=0.26.1->google-cloud-bigquery[pandas]<4,>=2; extra == \"gcp\"->feast[gcp]) (2.0.0)\n",
      "Requirement already satisfied: locket in /opt/conda/lib/python3.10/site-packages (from partd>=1.4.0->dask>=2024.2.1->dask[dataframe]>=2024.2.1->feast) (1.0.0)\n",
      "Requirement already satisfied: oauthlib>=3.0.0 in /opt/conda/lib/python3.10/site-packages (from requests-oauthlib>=0.7.0->google-auth-oauthlib>=0.7.0->pandas-gbq>=0.26.1->google-cloud-bigquery[pandas]<4,>=2; extra == \"gcp\"->feast[gcp]) (3.3.1)\n",
      "Requirement already satisfied: mypy>=0.910 in /opt/conda/lib/python3.10/site-packages (from SQLAlchemy[mypy]>1->feast) (1.18.2)\n",
      "Requirement already satisfied: mypy_extensions>=1.0.0 in /opt/conda/lib/python3.10/site-packages (from mypy>=0.910->SQLAlchemy[mypy]>1->feast) (1.1.0)\n",
      "Requirement already satisfied: pathspec>=0.9.0 in /opt/conda/lib/python3.10/site-packages (from mypy>=0.910->SQLAlchemy[mypy]>1->feast) (0.12.1)\n",
      "Requirement already satisfied: attrs>=22.2.0 in /opt/conda/lib/python3.10/site-packages (from jsonschema->feast) (25.3.0)\n",
      "Requirement already satisfied: jsonschema-specifications>=2023.03.6 in /opt/conda/lib/python3.10/site-packages (from jsonschema->feast) (2025.9.1)\n",
      "Requirement already satisfied: referencing>=0.28.4 in /opt/conda/lib/python3.10/site-packages (from jsonschema->feast) (0.36.2)\n",
      "Requirement already satisfied: rpds-py>=0.7.1 in /opt/conda/lib/python3.10/site-packages (from jsonschema->feast) (0.27.1)\n",
      "\n",
      "\u001b[1m[\u001b[0m\u001b[34;49mnotice\u001b[0m\u001b[1;39;49m]\u001b[0m\u001b[39;49m A new release of pip is available: \u001b[0m\u001b[31;49m25.2\u001b[0m\u001b[39;49m -> \u001b[0m\u001b[32;49m25.3\u001b[0m\n",
      "\u001b[1m[\u001b[0m\u001b[34;49mnotice\u001b[0m\u001b[1;39;49m]\u001b[0m\u001b[39;49m To update, run: \u001b[0m\u001b[32;49mpip install --upgrade pip\u001b[0m\n"
     ]
    }
   ],
   "source": [
    "!pip install feast scikit-learn 'feast[gcp]' mlflow"
   ]
  },
  {
   "cell_type": "code",
   "execution_count": 2,
   "id": "534ca30c-7501-4ec8-9391-8d121cfe3927",
   "metadata": {
    "tags": []
   },
   "outputs": [],
   "source": [
    "import os\n",
    "import pandas as pd\n",
    "import feast\n",
    "from datetime import datetime, timedelta\n",
    "from sklearn.model_selection import train_test_split\n",
    "from sklearn.tree import DecisionTreeClassifier\n",
    "from sklearn import metrics\n",
    "import mlflow\n",
    "import mlflow.sklearn"
   ]
  },
  {
   "cell_type": "code",
   "execution_count": 3,
   "id": "58825a59-04b2-449a-b222-23754cb83e31",
   "metadata": {
    "tags": []
   },
   "outputs": [],
   "source": [
    "FEAST_REPO_PATH = \"iris_feast_repo\"\n",
    "os.environ['FEAST_REPO_PATH'] = FEAST_REPO_PATH \n",
    "IRIS_DATA_FILE = \"iris_data_adapted_for_feast.csv\"\n",
    "FEATURE_COLS = ['sepal_length', 'sepal_width', 'petal_length', 'petal_width']\n",
    "\n",
    "# Map for species\n",
    "SPECIES_MAP = {'setosa': 0, 'versicolor': 1, 'virginica': 2}\n",
    "REVERSE_SPECIES_MAP = {v: k for k, v in SPECIES_MAP.items()}\n",
    "\n",
    "MLFLOW_TRACKING_URI = \"http://34.27.65.90:8100/\"\n",
    "MLFLOW_EXPERIMENT_NAME = \"iris_classifier_feast_tuning\"\n",
    "MLFLOW_MODEL_NAME = \"iris_classifier\""
   ]
  },
  {
   "cell_type": "code",
   "execution_count": 4,
   "id": "a416883d-f587-4bc0-bb87-da70c5520c3d",
   "metadata": {
    "tags": []
   },
   "outputs": [
    {
     "name": "stdout",
     "output_type": "stream",
     "text": [
      "Converted data/iris_data_adapted_for_feast.csv to data/iris_data_adapted_for_feast.parquet\n"
     ]
    }
   ],
   "source": [
    "csv_path = \"data/iris_data_adapted_for_feast.csv\"\n",
    "df = pd.read_csv(csv_path)\n",
    "\n",
    "\n",
    "df['event_timestamp'] = pd.to_datetime(df['event_timestamp'])\n",
    "\n",
    "# Save as Parquet\n",
    "parquet_path = \"data/iris_data_adapted_for_feast.parquet\"\n",
    "df.to_parquet(parquet_path, index=False)\n",
    "\n",
    "print(f\"Converted {csv_path} to {parquet_path}\")"
   ]
  },
  {
   "cell_type": "code",
   "execution_count": 5,
   "id": "9dfe9d55-9af8-47e6-a10d-fdeead6935df",
   "metadata": {
    "tags": []
   },
   "outputs": [
    {
     "name": "stdout",
     "output_type": "stream",
     "text": [
      "No project found in the repository. Using project name iris_classifier_feast defined in feature_store.yaml\n",
      "Applying changes for project iris_classifier_feast\n",
      "Updated feature view \u001b[1m\u001b[33miris_stats\u001b[0m\n",
      "\tbatch_source: \u001b[1m\u001b[33mtype: BATCH_FILE\n",
      "timestamp_field: \"event_timestamp\"\n",
      "file_options {\n",
      "  uri: \"../data/iris_data_adapted_for_feast.parquet\"\n",
      "}\n",
      "data_source_class_type: \"feast.infra.offline_stores.file_source.FileSource\"\n",
      "name: \"../data/iris_data_adapted_for_feast.parquet\"\n",
      "meta {\n",
      "  created_timestamp {\n",
      "    seconds: 1760191133\n",
      "    nanos: 223473000\n",
      "  }\n",
      "  last_updated_timestamp {\n",
      "    seconds: 1760191133\n",
      "    nanos: 264768000\n",
      "  }\n",
      "}\n",
      "\u001b[0m -> \u001b[1m\u001b[92mtype: BATCH_FILE\n",
      "timestamp_field: \"event_timestamp\"\n",
      "file_options {\n",
      "  uri: \"../data/iris_data_adapted_for_feast.parquet\"\n",
      "}\n",
      "data_source_class_type: \"feast.infra.offline_stores.file_source.FileSource\"\n",
      "name: \"../data/iris_data_adapted_for_feast.parquet\"\n",
      "meta {\n",
      "  created_timestamp {\n",
      "    seconds: 1761920420\n",
      "    nanos: 617147000\n",
      "  }\n",
      "  last_updated_timestamp {\n",
      "    seconds: 1761920420\n",
      "    nanos: 617147000\n",
      "  }\n",
      "}\n",
      "\u001b[0m\n",
      "\n",
      "\u001b[1m\u001b[94mNo changes to infrastructure\n",
      "Feast repository deployed successfully.\n"
     ]
    }
   ],
   "source": [
    "current_dir = os.getcwd()\n",
    "os.chdir(FEAST_REPO_PATH)\n",
    "! feast apply\n",
    "os.chdir(current_dir) \n",
    "print(\"Feast repository deployed successfully.\")"
   ]
  },
  {
   "cell_type": "code",
   "execution_count": 6,
   "id": "254bd3a7-6e68-4f63-abab-b9db4891907f",
   "metadata": {
    "tags": []
   },
   "outputs": [],
   "source": [
    "full_data = pd.read_csv(f\"data/{IRIS_DATA_FILE}\")\n",
    "full_data['event_timestamp'] = pd.to_datetime(full_data['event_timestamp']).dt.tz_localize('UTC')\n",
    "full_data['target'] = full_data['species'].map(SPECIES_MAP)\n",
    "\n",
    "\n",
    "entity_df = full_data[['iris_id', 'event_timestamp', 'target']].copy()"
   ]
  },
  {
   "cell_type": "code",
   "execution_count": 7,
   "id": "711263e2-a5ce-4a4a-9f50-7d8f3083d4a8",
   "metadata": {
    "tags": []
   },
   "outputs": [
    {
     "name": "stdout",
     "output_type": "stream",
     "text": [
      "--- 1. Setting up MLflow Experiment ---\n",
      "Experiment 'iris_classifier_feast_tuning' not found. Creating new experiment.\n",
      "MLflow experiment set to: iris_classifier_feast_tuning (ID: 886139258646959942)\n"
     ]
    }
   ],
   "source": [
    "print(\"--- 1. Setting up MLflow Experiment ---\")\n",
    "mlflow.set_tracking_uri(MLFLOW_TRACKING_URI)\n",
    "client = mlflow.MlflowClient()\n",
    "\n",
    "# Get or create the experiment\n",
    "experiment = client.get_experiment_by_name(MLFLOW_EXPERIMENT_NAME)\n",
    "if experiment is None:\n",
    "    print(f\"Experiment '{MLFLOW_EXPERIMENT_NAME}' not found. Creating new experiment.\")\n",
    "    experiment_id = client.create_experiment(MLFLOW_EXPERIMENT_NAME)\n",
    "else:\n",
    "    print(f\"Experiment '{MLFLOW_EXPERIMENT_NAME}' found.\")\n",
    "    experiment_id = experiment.experiment_id\n",
    "\n",
    "mlflow.set_experiment(experiment_name=MLFLOW_EXPERIMENT_NAME)\n",
    "print(f\"MLflow experiment set to: {MLFLOW_EXPERIMENT_NAME} (ID: {experiment_id})\")"
   ]
  },
  {
   "cell_type": "code",
   "execution_count": 8,
   "id": "7692e4cd-83d4-45a6-9cd9-22b8b5eb39f6",
   "metadata": {
    "tags": []
   },
   "outputs": [
    {
     "name": "stdout",
     "output_type": "stream",
     "text": [
      "\n",
      "--- 2. Retrieving Historical Features for Training (Offline Store) ---\n",
      "Training data shape: (45, 7)\n"
     ]
    }
   ],
   "source": [
    "print(\"\\n--- 2. Retrieving Historical Features for Training (Offline Store) ---\")\n",
    "fs = feast.FeatureStore(repo_path=FEAST_REPO_PATH)\n",
    "training_df = fs.get_historical_features(\n",
    "    entity_df=entity_df,\n",
    "    features=[f\"iris_stats:{col}\" for col in FEATURE_COLS],\n",
    ").to_df()\n",
    "\n",
    "# Merge target\n",
    "if 'target' not in training_df.columns:\n",
    "    training_df = pd.merge(\n",
    "        training_df, \n",
    "        entity_df[['iris_id', 'event_timestamp', 'target']], \n",
    "        on=['iris_id', 'event_timestamp'], \n",
    "        how='left'\n",
    "    )\n",
    "print(f\"Training data shape: {training_df.shape}\")"
   ]
  },
  {
   "cell_type": "code",
   "execution_count": 9,
   "id": "ccc5721a-3ecb-40aa-95b4-a2ec2faf17f1",
   "metadata": {
    "tags": []
   },
   "outputs": [],
   "source": [
    "# Prepare data for model training\n",
    "X = training_df[FEATURE_COLS]\n",
    "y = training_df['target']\n",
    "X_train, X_test, y_train, y_test = train_test_split(\n",
    "    X, y, test_size=0.4, stratify=y, random_state=42\n",
    ")"
   ]
  },
  {
   "cell_type": "code",
   "execution_count": 10,
   "id": "a69af67e-1096-407a-a72c-bb1653df85f1",
   "metadata": {
    "tags": []
   },
   "outputs": [
    {
     "name": "stdout",
     "output_type": "stream",
     "text": [
      "\n",
      "--- 3. Starting Hyperparameter Tuning with MLflow ---\n"
     ]
    },
    {
     "name": "stderr",
     "output_type": "stream",
     "text": [
      "2025/10/31 14:23:02 WARNING mlflow.models.model: `artifact_path` is deprecated. Please use `name` instead.\n"
     ]
    },
    {
     "name": "stdout",
     "output_type": "stream",
     "text": [
      "\n",
      "--- Starting Run: e20cb42b097b437da90aa0567f3d9677 ---\n",
      "Params: criterion=gini, max_depth=2\n",
      "Metrics: Accuracy=1.000\n"
     ]
    },
    {
     "name": "stderr",
     "output_type": "stream",
     "text": [
      "\u001b[31m2025/10/31 14:23:18 WARNING mlflow.models.model: Model logged without a signature and input example. Please set `input_example` parameter when logging the model to auto infer the model signature.\u001b[0m\n",
      "2025/10/31 14:23:18 WARNING mlflow.models.model: `artifact_path` is deprecated. Please use `name` instead.\n"
     ]
    },
    {
     "name": "stdout",
     "output_type": "stream",
     "text": [
      "Model logged as artifact for run e20cb42b097b437da90aa0567f3d9677.\n",
      "🏃 View run serious-steed-327 at: http://34.27.65.90:8100/#/experiments/886139258646959942/runs/e20cb42b097b437da90aa0567f3d9677\n",
      "🧪 View experiment at: http://34.27.65.90:8100/#/experiments/886139258646959942\n",
      "\n",
      "--- Starting Run: 9a4cc0d4ffa146cebfe362b9a54b61c6 ---\n",
      "Params: criterion=gini, max_depth=3\n",
      "Metrics: Accuracy=1.000\n"
     ]
    },
    {
     "name": "stderr",
     "output_type": "stream",
     "text": [
      "\u001b[31m2025/10/31 14:23:22 WARNING mlflow.models.model: Model logged without a signature and input example. Please set `input_example` parameter when logging the model to auto infer the model signature.\u001b[0m\n",
      "2025/10/31 14:23:22 WARNING mlflow.models.model: `artifact_path` is deprecated. Please use `name` instead.\n"
     ]
    },
    {
     "name": "stdout",
     "output_type": "stream",
     "text": [
      "Model logged as artifact for run 9a4cc0d4ffa146cebfe362b9a54b61c6.\n",
      "🏃 View run debonair-vole-462 at: http://34.27.65.90:8100/#/experiments/886139258646959942/runs/9a4cc0d4ffa146cebfe362b9a54b61c6\n",
      "🧪 View experiment at: http://34.27.65.90:8100/#/experiments/886139258646959942\n",
      "\n",
      "--- Starting Run: db7a77496e4741f8a35edb452bd6b3f6 ---\n",
      "Params: criterion=gini, max_depth=5\n",
      "Metrics: Accuracy=1.000\n"
     ]
    },
    {
     "name": "stderr",
     "output_type": "stream",
     "text": [
      "\u001b[31m2025/10/31 14:23:25 WARNING mlflow.models.model: Model logged without a signature and input example. Please set `input_example` parameter when logging the model to auto infer the model signature.\u001b[0m\n",
      "2025/10/31 14:23:25 WARNING mlflow.models.model: `artifact_path` is deprecated. Please use `name` instead.\n"
     ]
    },
    {
     "name": "stdout",
     "output_type": "stream",
     "text": [
      "Model logged as artifact for run db7a77496e4741f8a35edb452bd6b3f6.\n",
      "🏃 View run defiant-colt-449 at: http://34.27.65.90:8100/#/experiments/886139258646959942/runs/db7a77496e4741f8a35edb452bd6b3f6\n",
      "🧪 View experiment at: http://34.27.65.90:8100/#/experiments/886139258646959942\n",
      "\n",
      "--- Starting Run: 5449d3b2a465410a96c04b4577e0e3fa ---\n",
      "Params: criterion=gini, max_depth=10\n",
      "Metrics: Accuracy=1.000\n"
     ]
    },
    {
     "name": "stderr",
     "output_type": "stream",
     "text": [
      "\u001b[31m2025/10/31 14:23:29 WARNING mlflow.models.model: Model logged without a signature and input example. Please set `input_example` parameter when logging the model to auto infer the model signature.\u001b[0m\n",
      "2025/10/31 14:23:29 WARNING mlflow.models.model: `artifact_path` is deprecated. Please use `name` instead.\n"
     ]
    },
    {
     "name": "stdout",
     "output_type": "stream",
     "text": [
      "Model logged as artifact for run 5449d3b2a465410a96c04b4577e0e3fa.\n",
      "🏃 View run fortunate-crow-71 at: http://34.27.65.90:8100/#/experiments/886139258646959942/runs/5449d3b2a465410a96c04b4577e0e3fa\n",
      "🧪 View experiment at: http://34.27.65.90:8100/#/experiments/886139258646959942\n",
      "\n",
      "--- Starting Run: ea14754f5513448cbdbcb78acb51f0aa ---\n",
      "Params: criterion=entropy, max_depth=2\n",
      "Metrics: Accuracy=1.000\n"
     ]
    },
    {
     "name": "stderr",
     "output_type": "stream",
     "text": [
      "\u001b[31m2025/10/31 14:23:32 WARNING mlflow.models.model: Model logged without a signature and input example. Please set `input_example` parameter when logging the model to auto infer the model signature.\u001b[0m\n",
      "2025/10/31 14:23:33 WARNING mlflow.models.model: `artifact_path` is deprecated. Please use `name` instead.\n"
     ]
    },
    {
     "name": "stdout",
     "output_type": "stream",
     "text": [
      "Model logged as artifact for run ea14754f5513448cbdbcb78acb51f0aa.\n",
      "🏃 View run silent-fly-501 at: http://34.27.65.90:8100/#/experiments/886139258646959942/runs/ea14754f5513448cbdbcb78acb51f0aa\n",
      "🧪 View experiment at: http://34.27.65.90:8100/#/experiments/886139258646959942\n",
      "\n",
      "--- Starting Run: 82a3bced68334639a651bd7e82fb107f ---\n",
      "Params: criterion=entropy, max_depth=3\n",
      "Metrics: Accuracy=1.000\n"
     ]
    },
    {
     "name": "stderr",
     "output_type": "stream",
     "text": [
      "\u001b[31m2025/10/31 14:23:36 WARNING mlflow.models.model: Model logged without a signature and input example. Please set `input_example` parameter when logging the model to auto infer the model signature.\u001b[0m\n",
      "2025/10/31 14:23:36 WARNING mlflow.models.model: `artifact_path` is deprecated. Please use `name` instead.\n"
     ]
    },
    {
     "name": "stdout",
     "output_type": "stream",
     "text": [
      "Model logged as artifact for run 82a3bced68334639a651bd7e82fb107f.\n",
      "🏃 View run upset-goat-94 at: http://34.27.65.90:8100/#/experiments/886139258646959942/runs/82a3bced68334639a651bd7e82fb107f\n",
      "🧪 View experiment at: http://34.27.65.90:8100/#/experiments/886139258646959942\n",
      "\n",
      "--- Starting Run: 4c1012b67c2e436eb77232911a37fdce ---\n",
      "Params: criterion=entropy, max_depth=5\n",
      "Metrics: Accuracy=1.000\n"
     ]
    },
    {
     "name": "stderr",
     "output_type": "stream",
     "text": [
      "\u001b[31m2025/10/31 14:23:39 WARNING mlflow.models.model: Model logged without a signature and input example. Please set `input_example` parameter when logging the model to auto infer the model signature.\u001b[0m\n",
      "2025/10/31 14:23:40 WARNING mlflow.models.model: `artifact_path` is deprecated. Please use `name` instead.\n"
     ]
    },
    {
     "name": "stdout",
     "output_type": "stream",
     "text": [
      "Model logged as artifact for run 4c1012b67c2e436eb77232911a37fdce.\n",
      "🏃 View run sincere-gnat-65 at: http://34.27.65.90:8100/#/experiments/886139258646959942/runs/4c1012b67c2e436eb77232911a37fdce\n",
      "🧪 View experiment at: http://34.27.65.90:8100/#/experiments/886139258646959942\n",
      "\n",
      "--- Starting Run: 355411c833494dc4a7804201bb884658 ---\n",
      "Params: criterion=entropy, max_depth=10\n",
      "Metrics: Accuracy=1.000\n"
     ]
    },
    {
     "name": "stderr",
     "output_type": "stream",
     "text": [
      "\u001b[31m2025/10/31 14:23:43 WARNING mlflow.models.model: Model logged without a signature and input example. Please set `input_example` parameter when logging the model to auto infer the model signature.\u001b[0m\n"
     ]
    },
    {
     "name": "stdout",
     "output_type": "stream",
     "text": [
      "Model logged as artifact for run 355411c833494dc4a7804201bb884658.\n",
      "🏃 View run upbeat-stork-441 at: http://34.27.65.90:8100/#/experiments/886139258646959942/runs/355411c833494dc4a7804201bb884658\n",
      "🧪 View experiment at: http://34.27.65.90:8100/#/experiments/886139258646959942\n",
      "\n",
      "--- Hyperparameter tuning complete. All runs logged to MLflow. ---\n"
     ]
    }
   ],
   "source": [
    "print(\"\\n--- 3. Starting Hyperparameter Tuning with MLflow ---\")\n",
    "\n",
    "# Objective 1: Define hyperparameter grid\n",
    "hyperparameters = {\n",
    "    \"max_depth\": [2, 3, 5, 10],\n",
    "    \"criterion\": [\"gini\", \"entropy\"]\n",
    "}\n",
    "\n",
    "for criterion in hyperparameters[\"criterion\"]:\n",
    "    for depth in hyperparameters[\"max_depth\"]:\n",
    "        \n",
    "        #Log experiment run to MLflow\n",
    "        with mlflow.start_run(experiment_id=experiment_id) as run:\n",
    "            run_id = run.info.run_id\n",
    "            print(f\"\\n--- Starting Run: {run_id} ---\")\n",
    "            \n",
    "            # Log parameters\n",
    "            mlflow.log_param(\"max_depth\", depth)\n",
    "            mlflow.log_param(\"criterion\", criterion)\n",
    "            print(f\"Params: criterion={criterion}, max_depth={depth}\")\n",
    "\n",
    "            # Train the model\n",
    "            mod_dt = DecisionTreeClassifier(\n",
    "                max_depth=depth, \n",
    "                criterion=criterion, \n",
    "                random_state=1\n",
    "            )\n",
    "            mod_dt.fit(X_train, y_train)\n",
    "\n",
    "            # Evaluate model\n",
    "            prediction = mod_dt.predict(X_test)\n",
    "            accuracy = metrics.accuracy_score(prediction, y_test)\n",
    "\n",
    "            # Log metric\n",
    "            mlflow.log_metric(\"accuracy\", accuracy)\n",
    "            print(f\"Metrics: Accuracy={accuracy:.3f}\")\n",
    "\n",
    "            # Objective 4: Log model, removing DVC/joblib dependency\n",
    "            mlflow.sklearn.log_model(\n",
    "                sk_model=mod_dt,\n",
    "                artifact_path=\"model\"\n",
    "            )\n",
    "            print(f\"Model logged as artifact for run {run_id}.\")\n",
    "\n",
    "print(\"\\n--- Hyperparameter tuning complete. All runs logged to MLflow. ---\")"
   ]
  },
  {
   "cell_type": "code",
   "execution_count": 11,
   "id": "96043d91-c91d-4a15-afd2-ac0eec44f57f",
   "metadata": {
    "tags": []
   },
   "outputs": [
    {
     "name": "stdout",
     "output_type": "stream",
     "text": [
      "--- 4. Finding and Registering Best Model ---\n",
      "Best run found: 355411c833494dc4a7804201bb884658\n",
      "Best model accuracy: 1.000\n",
      "Best model URI: runs:/355411c833494dc4a7804201bb884658/model\n"
     ]
    }
   ],
   "source": [
    "print(\"--- 4. Finding and Registering Best Model ---\")\n",
    "\n",
    "# Search for the best run in the experiment\n",
    "best_run = mlflow.search_runs(\n",
    "    experiment_ids=[experiment_id],\n",
    "    order_by=[\"metrics.accuracy DESC\"],\n",
    "    max_results=1\n",
    ").iloc[0]\n",
    "\n",
    "best_run_id = best_run.run_id\n",
    "best_accuracy = best_run[\"metrics.accuracy\"]\n",
    "best_model_uri = f\"runs:/{best_run_id}/model\"\n",
    "\n",
    "print(f\"Best run found: {best_run_id}\")\n",
    "print(f\"Best model accuracy: {best_accuracy:.3f}\")\n",
    "print(f\"Best model URI: {best_model_uri}\")"
   ]
  },
  {
   "cell_type": "code",
   "execution_count": 12,
   "id": "99ef2780-2222-4511-9f5d-506b6d56371d",
   "metadata": {
    "tags": []
   },
   "outputs": [
    {
     "name": "stderr",
     "output_type": "stream",
     "text": [
      "Successfully registered model 'iris_classifier'.\n",
      "2025/10/31 14:25:13 WARNING mlflow.tracking._model_registry.fluent: Run with id 355411c833494dc4a7804201bb884658 has no artifacts at artifact path 'model', registering model based on models:/m-176c00b8ef1b40afad75ffc8573a0e63 instead\n",
      "2025/10/31 14:25:13 INFO mlflow.store.model_registry.abstract_store: Waiting up to 300 seconds for model version to finish creation. Model name: iris_classifier, version 1\n"
     ]
    },
    {
     "name": "stdout",
     "output_type": "stream",
     "text": [
      "Registering model as 'iris_classifier'...\n",
      "Model 'iris_classifier' version 1 registered.\n"
     ]
    },
    {
     "name": "stderr",
     "output_type": "stream",
     "text": [
      "Created version '1' of model 'iris_classifier'.\n"
     ]
    }
   ],
   "source": [
    "# Register the best model\n",
    "print(f\"Registering model as '{MLFLOW_MODEL_NAME}'...\")\n",
    "model_version = mlflow.register_model(\n",
    "    model_uri=best_model_uri,\n",
    "    name=MLFLOW_MODEL_NAME\n",
    ")\n",
    "\n",
    "print(f\"Model '{MLFLOW_MODEL_NAME}' version {model_version.version} registered.\")"
   ]
  },
  {
   "cell_type": "code",
   "execution_count": 13,
   "id": "0d4743e1-7738-4898-9d9e-a59d6223691a",
   "metadata": {
    "tags": []
   },
   "outputs": [
    {
     "name": "stdout",
     "output_type": "stream",
     "text": [
      "Transitioning model version 1 to 'Production' stage...\n",
      "Model version 1 is now in 'Production'.\n"
     ]
    },
    {
     "name": "stderr",
     "output_type": "stream",
     "text": [
      "/var/tmp/ipykernel_11171/2577437642.py:2: FutureWarning: ``mlflow.tracking.client.MlflowClient.transition_model_version_stage`` is deprecated since 2.9.0. Model registry stages will be removed in a future major release. To learn more about the deprecation of model registry stages, see our migration guide here: https://mlflow.org/docs/latest/model-registry.html#migrating-from-stages\n",
      "  client.transition_model_version_stage(\n"
     ]
    }
   ],
   "source": [
    "print(f\"Transitioning model version {model_version.version} to 'Production' stage...\")\n",
    "client.transition_model_version_stage(\n",
    "    name=MLFLOW_MODEL_NAME,\n",
    "    version=model_version.version,\n",
    "    stage=\"Production\",\n",
    "    archive_existing_versions=True\n",
    ")\n",
    "\n",
    "print(f\"Model version {model_version.version} is now in 'Production'.\")"
   ]
  },
  {
   "cell_type": "code",
   "execution_count": 14,
   "id": "563bbb03-099d-4c8b-b473-634f8112fe1c",
   "metadata": {
    "tags": []
   },
   "outputs": [
    {
     "name": "stdout",
     "output_type": "stream",
     "text": [
      "\n",
      "--- 6. Retrieving Online Features and Best Model for Inference ---\n",
      "Loading 'Production' model from: models:/iris_classifier/Production\n"
     ]
    },
    {
     "data": {
      "application/vnd.jupyter.widget-view+json": {
       "model_id": "63eec948448b447bbfd5efe9c739c502",
       "version_major": 2,
       "version_minor": 0
      },
      "text/plain": [
       "Downloading artifacts:   0%|          | 0/5 [00:00<?, ?it/s]"
      ]
     },
     "metadata": {},
     "output_type": "display_data"
    },
    {
     "name": "stdout",
     "output_type": "stream",
     "text": [
      "Model loaded successfully.\n"
     ]
    }
   ],
   "source": [
    "print(\"\\n--- 6. Retrieving Online Features and Best Model for Inference ---\")\n",
    "\n",
    "# We will load the model version we previously staged as \"Production\"\n",
    "model_uri = f\"models:/{MLFLOW_MODEL_NAME}/Production\"\n",
    "\n",
    "print(f\"Loading 'Production' model from: {model_uri}\")\n",
    "try:\n",
    "    model = mlflow.sklearn.load_model(model_uri)\n",
    "    print(\"Model loaded successfully.\")\n",
    "except Exception as e:\n",
    "    print(f\"Error loading model: {e}\")\n",
    "    print(\"Please ensure the model was registered and transitioned to 'Production'\")"
   ]
  },
  {
   "cell_type": "code",
   "execution_count": 15,
   "id": "a1c617de-2f7e-48e0-9e2f-d157155e1dc2",
   "metadata": {
    "tags": []
   },
   "outputs": [
    {
     "name": "stdout",
     "output_type": "stream",
     "text": [
      "\n",
      "--- Retrieving Online Features for Inference (Online Store) ---\n",
      "\n",
      "--- Final Online Inference Results (using MLflow 'Production' Model) ---\n",
      "| iris_id   | predicted_species   |\n",
      "|:----------|:--------------------|\n",
      "| 1003      | setosa              |\n",
      "| 1001      | versicolor          |\n",
      "| 1002      | setosa              |\n"
     ]
    }
   ],
   "source": [
    "try:\n",
    "    test_iris_ids = training_df.iloc[y_test.index]['iris_id'].unique().tolist()[:5]\n",
    "except NameError:\n",
    "    print(\"Could not find training_df or y_test. Using hardcoded IDs for inference.\")\n",
    "    # Fallback if the notebook state is lost\n",
    "    test_iris_ids = [1001, 1002, 1003, 1004, 1005] \n",
    "\n",
    "# Define entity rows for online lookup\n",
    "entity_rows = [{\"iris_id\": id} for id in test_iris_ids]\n",
    "\n",
    "# Retrieve features from the Feast online store\n",
    "print(\"\\n--- Retrieving Online Features for Inference (Online Store) ---\")\n",
    "online_features = fs.get_online_features(\n",
    "    entity_rows=entity_rows,\n",
    "    features=[f\"iris_stats:{col}\" for col in FEATURE_COLS],\n",
    ")\n",
    "\n",
    "# Convert the feature vector to a DataFrame for prediction\n",
    "inference_df = pd.DataFrame.from_dict(online_features.to_dict())\n",
    "\n",
    "# Ensure columns exist before trying to predict\n",
    "if not all(col in inference_df.columns for col in FEATURE_COLS):\n",
    "     print(f\"Error: Missing one or more feature columns. Found: {inference_df.columns.tolist()}\")\n",
    "else:\n",
    "    X_inference = inference_df[FEATURE_COLS]\n",
    "\n",
    "    # Make the prediction using the MLflow model\n",
    "    online_predictions_raw = model.predict(X_inference)\n",
    "    online_predictions = [REVERSE_SPECIES_MAP[p] for p in online_predictions_raw]\n",
    "\n",
    "    # Display the results\n",
    "    inference_results = pd.DataFrame({\n",
    "        'iris_id': inference_df['iris_id'], \n",
    "        'predicted_species': online_predictions\n",
    "    })\n",
    "\n",
    "    print(\"\\n--- Final Online Inference Results (using MLflow 'Production' Model) ---\")\n",
    "    print(inference_results.to_markdown(index=False, numalign=\"left\", stralign=\"left\"))"
   ]
  },
  {
   "cell_type": "code",
   "execution_count": null,
   "id": "001f925c-d948-4040-9d45-7a534040c086",
   "metadata": {},
   "outputs": [],
   "source": []
  }
 ],
 "metadata": {
  "environment": {
   "kernel": "conda-base-py",
   "name": "workbench-notebooks.m133",
   "type": "gcloud",
   "uri": "us-docker.pkg.dev/deeplearning-platform-release/gcr.io/workbench-notebooks:m133"
  },
  "kernelspec": {
   "display_name": "Python 3 (ipykernel)",
   "language": "python",
   "name": "conda-base-py"
  },
  "language_info": {
   "codemirror_mode": {
    "name": "ipython",
    "version": 3
   },
   "file_extension": ".py",
   "mimetype": "text/x-python",
   "name": "python",
   "nbconvert_exporter": "python",
   "pygments_lexer": "ipython3",
   "version": "3.10.18"
  }
 },
 "nbformat": 4,
 "nbformat_minor": 5
}
